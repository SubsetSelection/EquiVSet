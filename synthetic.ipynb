{
 "cells": [
  {
   "cell_type": "code",
   "execution_count": 1,
   "metadata": {},
   "outputs": [],
   "source": [
    "import torch"
   ]
  },
  {
   "cell_type": "markdown",
   "metadata": {},
   "source": [
    "# Hyper-parameters"
   ]
  },
  {
   "cell_type": "code",
   "execution_count": 2,
   "metadata": {},
   "outputs": [],
   "source": [
    "from pydantic.dataclasses import dataclass\n",
    "\n",
    "@dataclass\n",
    "class hparams:\n",
    "    data_name = 'moons'\n",
    "    v_size = 100\n",
    "    s_size = 10\n",
    "    lr = 0.0001\n",
    "    weight_decay = 1e-5\n",
    "    batch_size = 32\n",
    "    num_workers = 2"
   ]
  },
  {
   "cell_type": "markdown",
   "metadata": {},
   "source": [
    "# Dataset"
   ]
  },
  {
   "cell_type": "code",
   "execution_count": 3,
   "metadata": {},
   "outputs": [
    {
     "name": "stderr",
     "output_type": "stream",
     "text": [
      "Using backend: pytorch\n"
     ]
    },
    {
     "ename": "ModuleNotFoundError",
     "evalue": "No module named 'rdkit'",
     "output_type": "error",
     "traceback": [
      "\u001b[1;31m---------------------------------------------------------------------------\u001b[0m",
      "\u001b[1;31mModuleNotFoundError\u001b[0m                       Traceback (most recent call last)",
      "\u001b[1;32md:\\github\\EquiVSet\\synthetic.ipynb Cell 5'\u001b[0m in \u001b[0;36m<cell line: 1>\u001b[1;34m()\u001b[0m\n\u001b[1;32m----> <a href='vscode-notebook-cell:/d%3A/github/EquiVSet/synthetic.ipynb#ch0000002?line=0'>1</a>\u001b[0m \u001b[39mfrom\u001b[39;00m \u001b[39mdata_loader\u001b[39;00m\u001b[39m.\u001b[39;00m\u001b[39mmoons\u001b[39;00m \u001b[39mimport\u001b[39;00m TwoMoons\n\u001b[0;32m      <a href='vscode-notebook-cell:/d%3A/github/EquiVSet/synthetic.ipynb#ch0000002?line=1'>2</a>\u001b[0m data \u001b[39m=\u001b[39m TwoMoons(hparams)\n",
      "File \u001b[1;32md:\\github\\EquiVSet\\data_loader\\__init__.py:5\u001b[0m, in \u001b[0;36m<module>\u001b[1;34m\u001b[0m\n\u001b[0;32m      <a href='file:///d%3A/github/EquiVSet/data_loader/__init__.py?line=2'>3</a>\u001b[0m \u001b[39mfrom\u001b[39;00m \u001b[39m.\u001b[39;00m\u001b[39mamazon\u001b[39;00m \u001b[39mimport\u001b[39;00m Amazon\n\u001b[0;32m      <a href='file:///d%3A/github/EquiVSet/data_loader/__init__.py?line=3'>4</a>\u001b[0m \u001b[39mfrom\u001b[39;00m \u001b[39m.\u001b[39;00m\u001b[39mceleba\u001b[39;00m \u001b[39mimport\u001b[39;00m CelebA\n\u001b[1;32m----> <a href='file:///d%3A/github/EquiVSet/data_loader/__init__.py?line=4'>5</a>\u001b[0m \u001b[39mfrom\u001b[39;00m \u001b[39m.\u001b[39;00m\u001b[39mset_pdbbind\u001b[39;00m \u001b[39mimport\u001b[39;00m SetPDBBind\n\u001b[0;32m      <a href='file:///d%3A/github/EquiVSet/data_loader/__init__.py?line=5'>6</a>\u001b[0m \u001b[39mfrom\u001b[39;00m \u001b[39m.\u001b[39;00m\u001b[39mbindingdb\u001b[39;00m \u001b[39mimport\u001b[39;00m SetBindingDB\n",
      "File \u001b[1;32md:\\github\\EquiVSet\\data_loader\\set_pdbbind.py:7\u001b[0m, in \u001b[0;36m<module>\u001b[1;34m\u001b[0m\n\u001b[0;32m      <a href='file:///d%3A/github/EquiVSet/data_loader/set_pdbbind.py?line=4'>5</a>\u001b[0m \u001b[39mimport\u001b[39;00m \u001b[39mnumpy\u001b[39;00m \u001b[39mas\u001b[39;00m \u001b[39mnp\u001b[39;00m\n\u001b[0;32m      <a href='file:///d%3A/github/EquiVSet/data_loader/set_pdbbind.py?line=5'>6</a>\u001b[0m \u001b[39mfrom\u001b[39;00m \u001b[39mtqdm\u001b[39;00m \u001b[39mimport\u001b[39;00m tqdm\n\u001b[1;32m----> <a href='file:///d%3A/github/EquiVSet/data_loader/set_pdbbind.py?line=6'>7</a>\u001b[0m \u001b[39mfrom\u001b[39;00m \u001b[39mrdkit\u001b[39;00m \u001b[39mimport\u001b[39;00m Chem\n\u001b[0;32m      <a href='file:///d%3A/github/EquiVSet/data_loader/set_pdbbind.py?line=7'>8</a>\u001b[0m \u001b[39mfrom\u001b[39;00m \u001b[39msklearn\u001b[39;00m\u001b[39m.\u001b[39;00m\u001b[39mcluster\u001b[39;00m \u001b[39mimport\u001b[39;00m AffinityPropagation\n\u001b[0;32m      <a href='file:///d%3A/github/EquiVSet/data_loader/set_pdbbind.py?line=8'>9</a>\u001b[0m \u001b[39mfrom\u001b[39;00m \u001b[39mrdkit\u001b[39;00m\u001b[39m.\u001b[39;00m\u001b[39mDataStructs\u001b[39;00m \u001b[39mimport\u001b[39;00m FingerprintSimilarity\n",
      "\u001b[1;31mModuleNotFoundError\u001b[0m: No module named 'rdkit'"
     ]
    }
   ],
   "source": [
    "from data_loader.moons import TwoMoons\n",
    "data = TwoMoons(hparams)"
   ]
  },
  {
   "cell_type": "markdown",
   "metadata": {},
   "source": [
    "# EquiVSet"
   ]
  },
  {
   "cell_type": "code",
   "execution_count": null,
   "metadata": {},
   "outputs": [
    {
     "name": "stderr",
     "output_type": "stream",
     "text": [
      "Using backend: pytorch\n"
     ]
    }
   ],
   "source": [
    "from model.modules import SetFuction, RecNet\n",
    "class EquiVSet:\n",
    "    def __init__(self):\n",
    "        super().__init__()\n",
    "        \n",
    "        self.set_func =  SetFuction(params = hparams)\n",
    "        self.rec_net =  RecNet(params = hparams)\n",
    "        \n",
    "    def configure_optimizers(self):\n",
    "        optim_energy = torch.optim.Adam(self.set_func.parameters(), lr=hparams.lr,\n",
    "                                        weight_decay=hparams.weight_decay)\n",
    "        optim_var = torch.optim.Adam(self.rec_net.parameters(), lr=hparams.lr,\n",
    "                                        weight_decay=hparams.weight_decay)\n",
    "        return optim_energy, optim_var"
   ]
  },
  {
   "cell_type": "markdown",
   "metadata": {},
   "source": [
    "# Training"
   ]
  },
  {
   "cell_type": "code",
   "execution_count": null,
   "metadata": {},
   "outputs": [],
   "source": [
    "model = EquiVSet()\n",
    "optim_energy, optim_var = model.configure_optimizers()\n",
    "train_loader, val_loader, test_loader = data.get_loaders(\n",
    "            hparams.batch_size, hparams.num_workers,\n",
    "            shuffle_train=True, get_test=True)"
   ]
  }
 ],
 "metadata": {
  "interpreter": {
   "hash": "e9d4ab012df1a6c0b0124c15e4d6d453b26435c6ee6434c03cea2ea157424fec"
  },
  "kernelspec": {
   "display_name": "Python 3.8.12 ('dgllife')",
   "language": "python",
   "name": "python3"
  },
  "language_info": {
   "codemirror_mode": {
    "name": "ipython",
    "version": 3
   },
   "file_extension": ".py",
   "mimetype": "text/x-python",
   "name": "python",
   "nbconvert_exporter": "python",
   "pygments_lexer": "ipython3",
   "version": "3.8.12"
  },
  "orig_nbformat": 4
 },
 "nbformat": 4,
 "nbformat_minor": 2
}
